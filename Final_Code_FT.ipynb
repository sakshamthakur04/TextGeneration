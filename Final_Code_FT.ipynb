{
 "cells": [
  {
   "cell_type": "code",
   "execution_count": 8,
   "id": "d80049b1",
   "metadata": {},
   "outputs": [],
   "source": [
    "import gpt_2_simple as gpt2\n",
    "import pandas as pd\n",
    "import tensorflow.compat.v1 as tf"
   ]
  },
  {
   "cell_type": "code",
   "execution_count": 2,
   "id": "19cf0d13",
   "metadata": {},
   "outputs": [],
   "source": [
    "csv_file = 'Data Set_Mental Health.csv'\n",
    "df = pd.read_csv(csv_file)"
   ]
  },
  {
   "cell_type": "code",
   "execution_count": 3,
   "id": "7e665150",
   "metadata": {},
   "outputs": [],
   "source": [
    "questions = df['Questions'].tolist()\n",
    "answers = df['Answers'].tolist()"
   ]
  },
  {
   "cell_type": "code",
   "execution_count": 4,
   "id": "f59fbc5d",
   "metadata": {},
   "outputs": [],
   "source": [
    "text_data = ''\n",
    "for question, answer in zip(questions, answers):\n",
    "    text_data += question + '\\n' + answer + '\\n'"
   ]
  },
  {
   "cell_type": "code",
   "execution_count": 5,
   "id": "3a15be1d",
   "metadata": {},
   "outputs": [],
   "source": [
    "text_file = 'data.txt'\n",
    "with open(text_file, 'w') as file:\n",
    "    file.write(text_data)"
   ]
  },
  {
   "cell_type": "code",
   "execution_count": 10,
   "id": "5bf1e3a0",
   "metadata": {},
   "outputs": [
    {
     "name": "stderr",
     "output_type": "stream",
     "text": [
      "Fetching checkpoint: 1.05Mit [00:00, 476Mit/s]                                                      \n",
      "Fetching encoder.json: 1.05Mit [00:00, 3.20Mit/s]                                                   \n",
      "Fetching hparams.json: 1.05Mit [00:00, 424Mit/s]                                                    \n",
      "Fetching model.ckpt.data-00000-of-00001: 498Mit [01:45, 4.73Mit/s]                                  \n",
      "Fetching model.ckpt.index: 1.05Mit [00:00, 406Mit/s]                                                \n",
      "Fetching model.ckpt.meta: 1.05Mit [00:00, 7.60Mit/s]                                                \n",
      "Fetching vocab.bpe: 1.05Mit [00:00, 7.89Mit/s]                                                      \n"
     ]
    }
   ],
   "source": [
    "model_name = '124M'  # or '355M' for the larger GPT-2 model\n",
    "model_dir = 'models'\n",
    "\n",
    "# Fine-tune the model\n",
    "gpt2.download_gpt2(model_name=model_name)"
   ]
  },
  {
   "cell_type": "code",
   "execution_count": 11,
   "id": "2d6fbd64",
   "metadata": {},
   "outputs": [
    {
     "name": "stderr",
     "output_type": "stream",
     "text": [
      "2023-07-29 09:39:45.868237: I tensorflow/compiler/mlir/mlir_graph_optimization_pass.cc:375] MLIR V1 optimization pass is not enabled\n"
     ]
    },
    {
     "name": "stdout",
     "output_type": "stream",
     "text": [
      "Loading checkpoint checkpoint/run1/model-5274\n",
      "INFO:tensorflow:Restoring parameters from checkpoint/run1/model-5274\n",
      "Loading dataset...\n"
     ]
    },
    {
     "name": "stderr",
     "output_type": "stream",
     "text": [
      "100%|█████████████████████████████████████████████| 1/1 [00:00<00:00,  4.57it/s]\n"
     ]
    },
    {
     "name": "stdout",
     "output_type": "stream",
     "text": [
      "dataset has 110759 tokens\n",
      "Training...\n",
      "[5275 | 24.09] loss=0.02 avg=0.02\n",
      "[5276 | 46.89] loss=0.02 avg=0.02\n",
      "interrupted\n",
      "Saving checkpoint/run1/model-5276\n"
     ]
    }
   ],
   "source": [
    "tf.compat.v1.disable_eager_execution()\n",
    "sess = gpt2.start_tf_sess()\n",
    "gpt2.finetune(sess=sess, dataset=text_file, model_name=model_name, model_dir=model_dir)"
   ]
  },
  {
   "cell_type": "code",
   "execution_count": null,
   "id": "20af347b",
   "metadata": {},
   "outputs": [],
   "source": []
  }
 ],
 "metadata": {
  "kernelspec": {
   "display_name": "Python 3 (ipykernel)",
   "language": "python",
   "name": "python3"
  },
  "language_info": {
   "codemirror_mode": {
    "name": "ipython",
    "version": 3
   },
   "file_extension": ".py",
   "mimetype": "text/x-python",
   "name": "python",
   "nbconvert_exporter": "python",
   "pygments_lexer": "ipython3",
   "version": "3.10.9"
  }
 },
 "nbformat": 4,
 "nbformat_minor": 5
}
