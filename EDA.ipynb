{
 "cells": [
  {
   "cell_type": "code",
   "execution_count": 14,
   "id": "ec736d1f",
   "metadata": {},
   "outputs": [],
   "source": [
    "import pandas as pd\n",
    "import nltk\n",
    "from nltk.corpus import stopwords\n",
    "from nltk.tokenize import word_tokenize\n",
    "from wordcloud import WordCloud\n",
    "import matplotlib.pyplot as plt\n",
    "from nltk.sentiment import SentimentIntensityAnalyzer\n",
    "from sklearn.feature_extraction.text import CountVectorizer\n",
    "from sklearn.decomposition import LatentDirichletAllocation\n",
    "import networkx as nx"
   ]
  },
  {
   "cell_type": "code",
   "execution_count": 15,
   "id": "698c682e",
   "metadata": {},
   "outputs": [
    {
     "name": "stdout",
     "output_type": "stream",
     "text": [
      "   Sr No                                          Questions  \\\n",
      "0      1            How can I manage my stress and anxiety?   \n",
      "1      2  What are some coping strategies for dealing wi...   \n",
      "2      3  How can I improve my self-esteem and self-conf...   \n",
      "3      4  What techniques can I use to overcome insomnia...   \n",
      "4      5  How do I handle relationship issues or conflicts?   \n",
      "\n",
      "                                             Answers  \n",
      "0  To alleviate stress, engage in deep breathing,...  \n",
      "1  Although dealing with depression can be diffic...  \n",
      "2  Practice self-care to maintain physical and em...  \n",
      "3  Create a sleep-friendly atmosphere, limit scre...  \n",
      "4  Dealing with relationship problems and disagre...  \n",
      "<class 'pandas.core.frame.DataFrame'>\n",
      "RangeIndex: 700 entries, 0 to 699\n",
      "Data columns (total 3 columns):\n",
      " #   Column     Non-Null Count  Dtype \n",
      "---  ------     --------------  ----- \n",
      " 0   Sr No      700 non-null    int64 \n",
      " 1   Questions  700 non-null    object\n",
      " 2   Answers    700 non-null    object\n",
      "dtypes: int64(1), object(2)\n",
      "memory usage: 16.5+ KB\n",
      "None\n",
      "           Sr No\n",
      "count  700.00000\n",
      "mean   350.50000\n",
      "std    202.21688\n",
      "min      1.00000\n",
      "25%    175.75000\n",
      "50%    350.50000\n",
      "75%    525.25000\n",
      "max    700.00000\n"
     ]
    }
   ],
   "source": [
    "# Load the dataset (replace 'your_dataset.csv' with the actual file name)\n",
    "data = pd.read_csv('Data Set_Mental Health.csv')\n",
    "\n",
    "# Display basic info about the dataset\n",
    "print(data.head())\n",
    "print(data.info())\n",
    "print(data.describe())"
   ]
  },
  {
   "cell_type": "code",
   "execution_count": 16,
   "id": "6315bd24",
   "metadata": {},
   "outputs": [],
   "source": [
    "# Clean and preprocess text data\n",
    "stop_words = set(stopwords.words('english'))\n",
    "data['cleaned_answers'] = data['Answers'].apply(lambda x: ' '.join([word for word in word_tokenize(x.lower()) if word.isalnum() and word not in stop_words]))"
   ]
  },
  {
   "cell_type": "code",
   "execution_count": 17,
   "id": "7b681c4a",
   "metadata": {},
   "outputs": [
    {
     "name": "stdout",
     "output_type": "stream",
     "text": [
      "important    950\n",
      "help         803\n",
      "also         593\n",
      "support      515\n",
      "positive     351\n",
      "dtype: int64\n"
     ]
    }
   ],
   "source": [
    "# Word frequency analysis\n",
    "word_freq = pd.Series(' '.join(data['cleaned_answers']).split()).value_counts()\n",
    "print(word_freq.head())"
   ]
  },
  {
   "cell_type": "code",
   "execution_count": 18,
   "id": "2e642def",
   "metadata": {},
   "outputs": [
    {
     "data": {
      "image/png": "[encoded data removed]",
      "text/plain": [
       "<Figure size 432x288 with 1 Axes>"
      ]
     },
     "metadata": {
      "needs_background": "light"
     },
     "output_type": "display_data"
    }
   ],
   "source": [
    "# Sentiment analysis\n",
    "sia = SentimentIntensityAnalyzer()\n",
    "data['sentiment_scores'] = data['Answers'].apply(lambda x: sia.polarity_scores(x)['compound'])\n",
    "# Visualize sentiment distribution\n",
    "plt.hist(data['sentiment_scores'], bins=20, edgecolor='k')\n",
    "plt.xlabel('Sentiment Score')\n",
    "plt.ylabel('Frequency')\n",
    "plt.title('Sentiment Distribution')\n",
    "plt.show()"
   ]
  },
  {
   "cell_type": "code",
   "execution_count": 19,
   "id": "c8ca5edf",
   "metadata": {},
   "outputs": [
    {
     "name": "stdout",
     "output_type": "stream",
     "text": [
      "Topic 0: manage, reduce, support, managing, therapy, techniques, important, symptoms, anxiety, help\n",
      "Topic 1: goals, physical, way, practice, supportive, thoughts, body, help, negative, positive\n",
      "Topic 2: family, online, stress, prioritize, support, time, help, healthy, boundaries, important\n",
      "Topic 3: practice, clear, active, conflicts, help, listening, skills, assertiveness, important, communication\n",
      "Topic 4: additionally, remember, experience, help, stress, important, emotional, support, feelings, emotions\n"
     ]
    }
   ],
   "source": [
    "# Topic modeling using LDA\n",
    "vectorizer = CountVectorizer(max_features=1000, stop_words='english')\n",
    "X = vectorizer.fit_transform(data['cleaned_answers'])\n",
    "lda = LatentDirichletAllocation(n_components=5, random_state=42)\n",
    "lda.fit(X)\n",
    "feature_names = vectorizer.get_feature_names_out()\n",
    "for topic_idx, topic in enumerate(lda.components_):\n",
    "    print(f\"Topic {topic_idx}: {', '.join([feature_names[i] for i in topic.argsort()[-10:]])}\")"
   ]
  },
  {
   "cell_type": "code",
   "execution_count": 20,
   "id": "4bcb63b5",
   "metadata": {},
   "outputs": [],
   "source": [
    "# Create a word cloud\n",
    "#    wordcloud = WordCloud(width=800, height=400, max_words=100, background_color='white').generate_from_frequencies(word_freq)\n",
    "#   plt.figure(figsize=(10, 5))\n",
    "#    plt.imshow(wordcloud, interpolation='bilinear')\n",
    "#    plt.axis('off')\n",
    "#    plt.show()\n"
   ]
  },
  {
   "cell_type": "code",
   "execution_count": 21,
   "id": "5525f58a",
   "metadata": {},
   "outputs": [
    {
     "data": {
      "image/png": "[encoded data removed]",
      "text/plain": [
       "<Figure size 432x288 with 1 Axes>"
      ]
     },
     "metadata": {
      "needs_background": "light"
     },
     "output_type": "display_data"
    }
   ],
   "source": [
    "#Answer Length Distribution\n",
    "data['answer_length'] = data['cleaned_answers'].apply(lambda x: len(word_tokenize(x)))\n",
    "plt.hist(data['answer_length'], bins=20, edgecolor='k')\n",
    "plt.xlabel('Answer Length')\n",
    "plt.ylabel('Frequency')\n",
    "plt.title('Answer Length Distribution')\n",
    "plt.show()\n"
   ]
  },
  {
   "cell_type": "code",
   "execution_count": null,
   "id": "c69b7278",
   "metadata": {},
   "outputs": [],
   "source": []
  }
 ],
 "metadata": {
  "kernelspec": {
   "display_name": "Python 3 (ipykernel)",
   "language": "python",
   "name": "python3"
  },
  "language_info": {
   "codemirror_mode": {
    "name": "ipython",
    "version": 3
   },
   "file_extension": ".py",
   "mimetype": "text/x-python",
   "name": "python",
   "nbconvert_exporter": "python",
   "pygments_lexer": "ipython3",
   "version": "3.9.12"
  }
 },
 "nbformat": 4,
 "nbformat_minor": 5
}
